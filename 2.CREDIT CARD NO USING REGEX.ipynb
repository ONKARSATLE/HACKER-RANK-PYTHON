{
 "cells": [
  {
   "cell_type": "code",
   "execution_count": null,
   "metadata": {},
   "outputs": [],
   "source": [
    "import re\n",
    "\n",
    "for i in range(int(input())):\n",
    "    C=input()\n",
    "    a= re.search(r\"^[456]\\d{15}$|^[456]\\d{3}-\\d{4}-\\d{4}-\\d{4}$\",C)\n",
    "    if(a):\n",
    "        if(re.search(r\"(\\d)\\1{3,}|(\\d)\\2{1}-(\\d)\\2{1}|-(\\d)\\4{3}-\",C)):\n",
    "            print(\"Invalid\")\n",
    "        else:\n",
    "            print(\"Valid\")\n",
    "    else:\n",
    "        print(\"Invalid\")\n",
    "            "
   ]
  }
 ],
 "metadata": {
  "kernelspec": {
   "display_name": "Python 3",
   "language": "python",
   "name": "python3"
  },
  "language_info": {
   "codemirror_mode": {
    "name": "ipython",
    "version": 3
   },
   "file_extension": ".py",
   "mimetype": "text/x-python",
   "name": "python",
   "nbconvert_exporter": "python",
   "pygments_lexer": "ipython3",
   "version": "3.7.6"
  }
 },
 "nbformat": 4,
 "nbformat_minor": 4
}
