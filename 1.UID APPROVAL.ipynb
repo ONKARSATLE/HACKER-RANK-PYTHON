{
 "cells": [
  {
   "cell_type": "markdown",
   "metadata": {},
   "source": [
    "ABCXYZ company has up to  employees.\n",
    "The company decides to create a unique identification number (UID) for each of its employees.\n",
    "The company has assigned you the task of validating all the randomly generated UIDs.\n",
    "\n",
    "A valid UID must follow the rules below:\n",
    "\n",
    "It must contain at least  uppercase English alphabet characters.\n",
    "It must contain at least  digits ( - ).\n",
    "It should only contain alphanumeric characters ( - ,  -  &  - ).\n",
    "No character should repeat.\n",
    "There must be exactly  characters in a valid UID.\n",
    "Input Format\n",
    "\n",
    "The first line contains an integer , the number of test cases.\n",
    "The next  lines contains an employee's UID.\n",
    "\n",
    "Output Format\n",
    "\n",
    "For each test case, print 'Valid' if the UID is valid. Otherwise, print 'Invalid', on separate lines. Do not print the quotation marks.\n",
    "\n",
    "Sample Input\n",
    "2\n",
    "\n",
    "B1CD102354\n",
    "\n",
    "B1CDEF2354\n",
    "\n",
    "Sample Output\n",
    "\n",
    "Invalid    \n",
    "\n",
    "Valid"
   ]
  },
  {
   "cell_type": "code",
   "execution_count": null,
   "metadata": {},
   "outputs": [],
   "source": [
    "import re\n",
    "\n",
    "for i in range(int(input())):\n",
    "    uid=input()\n",
    "    \n",
    "    #it must contain atleast 2 uppercase\n",
    "    c1= len(re.findall(r'[A-Z]',uid))>=2\n",
    "    #it must contain atleast 3 digits(0-9)\n",
    "    c2= len(re.findall(r'[0-9]',uid))>=3\n",
    "    #it should only contain alphanumeric characters\n",
    "    c3= len(re.findall(r'[a-zA-Z0-9]',uid))==len(uid)\n",
    "    #no character should repeat\n",
    "    c4= len(set(uid))==len(uid)\n",
    "    #there must be atleast 10 characters in a valid UID\n",
    "    c5= len(uid)>=10\n",
    "    \n",
    "    #Giving the judgement that is it valid or invalid depending upon condition satisfaction.\n",
    "    \n",
    "    print('Valid' if all([c1,c2,c3,c4,c5]) else 'Invalid')"
   ]
  }
 ],
 "metadata": {
  "kernelspec": {
   "display_name": "Python 3",
   "language": "python",
   "name": "python3"
  },
  "language_info": {
   "codemirror_mode": {
    "name": "ipython",
    "version": 3
   },
   "file_extension": ".py",
   "mimetype": "text/x-python",
   "name": "python",
   "nbconvert_exporter": "python",
   "pygments_lexer": "ipython3",
   "version": "3.7.6"
  }
 },
 "nbformat": 4,
 "nbformat_minor": 4
}
