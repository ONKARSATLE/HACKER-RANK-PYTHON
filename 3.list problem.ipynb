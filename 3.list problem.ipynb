{
 "cells": [
  {
   "cell_type": "markdown",
   "metadata": {},
   "source": [
    "Consider a list (list = []). You can perform the following commands:\n",
    "\n",
    "insert i e: Insert integer  at position .\n",
    "\n",
    "print: Print the list.\n",
    "\n",
    "remove e: Delete the first occurrence of integer .\n",
    "\n",
    "append e: Insert integer  at the end of the list.\n",
    "\n",
    "sort: Sort the list.\n",
    "\n",
    "pop: Pop the last element from the list.\n",
    "\n",
    "reverse: Reverse the list.\n",
    "\n",
    "Initialize your list and read in the value of  followed by  lines of commands where each command will be of the  types listed above. Iterate through each command in order and perform the corresponding operation on your list.\n",
    "\n",
    "Example\n",
    "\n",
    ": Append  to the list, .\n",
    "\n",
    ": Append  to the list, .\n",
    "\n",
    ": Insert  at index , .\n",
    "\n",
    ": Print the array.\n",
    "\n",
    "Output:\n",
    "\n",
    "[1, 3, 2]\n",
    "\n",
    "Input Format\n",
    "\n",
    "The first line contains an integer, , denoting the number of commands.\n",
    "Each line  of the  subsequent lines contains one of the commands described above.\n",
    "\n",
    "Constraints\n",
    "\n",
    "The elements added to the list must be integers.\n",
    "Output Format\n",
    "\n",
    "For each command of type print, print the list on a new line."
   ]
  },
  {
   "cell_type": "code",
   "execution_count": null,
   "metadata": {},
   "outputs": [],
   "source": [
    "if __name__ == '__main__':\n",
    "    N = int(input()) \n",
    "L=[];\n",
    "for i in range(0,N):\n",
    "        cmd=input().split()\n",
    "        if cmd[0] == \"insert\":\n",
    "            L.insert(int(cmd[1]),int(cmd[2]))\n",
    "        elif cmd[0] == \"append\":\n",
    "            L.append(int(cmd[1]))\n",
    "        elif cmd[0] == \"pop\":\n",
    "            L.pop()\n",
    "        elif cmd[0] == \"print\":\n",
    "            print(L)\n",
    "        elif cmd[0] == \"remove\":\n",
    "            L.remove(int(cmd[1]))\n",
    "        elif cmd[0] == \"sort\":\n",
    "            L.sort()\n",
    "        else:\n",
    "            L.reverse()    "
   ]
  }
 ],
 "metadata": {
  "kernelspec": {
   "display_name": "Python 3",
   "language": "python",
   "name": "python3"
  },
  "language_info": {
   "codemirror_mode": {
    "name": "ipython",
    "version": 3
   },
   "file_extension": ".py",
   "mimetype": "text/x-python",
   "name": "python",
   "nbconvert_exporter": "python",
   "pygments_lexer": "ipython3",
   "version": "3.7.6"
  }
 },
 "nbformat": 4,
 "nbformat_minor": 4
}
