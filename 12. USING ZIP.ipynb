{
 "cells": [
  {
   "cell_type": "markdown",
   "metadata": {},
   "source": [
    "\n",
    "zip([iterable, ...])\n",
    "This function returns a list of tuples. The i th tuple contains the i th element from each of the argument sequences or iterables.\n",
    "If the argument sequences are of unequal lengths, then the returned list is truncated to the length of the shortest argument sequence.\n",
    "Sample Code\n",
    "\n",
    ">>> print zip([1,2,3,4,5,6],'Hacker')\n",
    "[(1, 'H'), (2, 'a'), (3, 'c'), (4, 'k'), (5, 'e'), (6, 'r')]\n",
    ">>> \n",
    ">>> print zip([1,2,3,4,5,6],[0,9,8,7,6,5,4,3,2,1])\n",
    "[(1, 0), (2, 9), (3, 8), (4, 7), (5, 6), (6, 5)]\n",
    ">>> \n",
    ">>> A = [1,2,3]\n",
    ">>> B = [6,5,4]\n",
    ">>> C = [7,8,9]\n",
    ">>> X = [A] + [B] + [C]\n",
    ">>> \n",
    ">>> print zip(*X)\n",
    "[(1, 6, 7), (2, 5, 8), (3, 4, 9)]\n",
    "\n",
    "Task :\n",
    "The National University conducts an examination of  N students in X subjects.\n",
    "Your task is to compute the average scores of each student.\n",
    "\n",
    "Zipped in python - Hacker Rank Solution\n",
    "fig : Zipped in python - Hacker Rank Solution\n",
    "\n",
    "The format for the general mark sheet is:\n",
    "Student ID → ___1_____2_____3_____4_____5__               \n",
    "Subject 1   |  89    90    78    93    80\n",
    "Subject 2   |  90    91    85    88    86  \n",
    "Subject 3   |  91    92    83    89    90.5\n",
    "            |______________________________\n",
    "Average        90    91    82    90    85.5 \n",
    "\n",
    "Input Format :\n",
    "The first line contains N and X separated by a space.\n",
    "The next X lines contains the space separated marks obtained by students in a particular subject.\n",
    "\n",
    "Constraints :\n",
    "0 < N <= 100\n",
    "0 < X <= 100\n",
    "\n",
    "Output Format :\n",
    "Print the averages of all students on separate lines.\n",
    "The averages must be correct up to 1 decimal place.\n"
   ]
  },
  {
   "cell_type": "code",
   "execution_count": null,
   "metadata": {},
   "outputs": [],
   "source": [
    "N, X = input().split()\n",
    "\n",
    "io = list()\n",
    "\n",
    "for _ in range(int(X)):\n",
    "    ip = map(float, input().split())\n",
    "    io.append(ip)\n",
    "\n",
    "for i in zip(*io): \n",
    "    print( sum(i)/len(i) ) "
   ]
  }
 ],
 "metadata": {
  "kernelspec": {
   "display_name": "Python 3",
   "language": "python",
   "name": "python3"
  },
  "language_info": {
   "codemirror_mode": {
    "name": "ipython",
    "version": 3
   },
   "file_extension": ".py",
   "mimetype": "text/x-python",
   "name": "python",
   "nbconvert_exporter": "python",
   "pygments_lexer": "ipython3",
   "version": "3.7.6"
  }
 },
 "nbformat": 4,
 "nbformat_minor": 4
}
