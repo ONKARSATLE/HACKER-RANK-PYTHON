{
 "cells": [
  {
   "cell_type": "markdown",
   "metadata": {},
   "source": [
    "Mr. Vincent works in a door mat manufacturing company. One day, he designed a new door mat with the following specifications:\n",
    "\n",
    "Mat size must be X. ( is an odd natural number, and  is  times .)\n",
    "The design should have 'WELCOME' written in the center.\n",
    "The design pattern should only use |, . and - characters.\n",
    "Sample Designs\n",
    "\n",
    "    Size: 7 x 21 \n",
    "    ---------.|.---------\n",
    "    ------.|..|..|.------\n",
    "    ---.|..|..|..|..|.---\n",
    "    -------WELCOME-------\n",
    "    ---.|..|..|..|..|.---\n",
    "    ------.|..|..|.------\n",
    "    ---------.|.---------\n",
    "    \n",
    "    Size: 11 x 33\n",
    "    ---------------.|.---------------\n",
    "    ------------.|..|..|.------------\n",
    "    ---------.|..|..|..|..|.---------\n",
    "    ------.|..|..|..|..|..|..|.------\n",
    "    ---.|..|..|..|..|..|..|..|..|.---\n",
    "    -------------WELCOME-------------\n",
    "    ---.|..|..|..|..|..|..|..|..|.---\n",
    "    ------.|..|..|..|..|..|..|.------\n",
    "    ---------.|..|..|..|..|.---------\n",
    "    ------------.|..|..|.------------\n",
    "    ---------------.|.---------------\n",
    "    \n",
    "Input Format :\n",
    "\n",
    "A single line containing the space separated values of N and M.\n",
    "\n",
    "Constraints :\n",
    "\n",
    "5 < N < 101\n",
    "\n",
    "15 < M < 303"
   ]
  },
  {
   "cell_type": "code",
   "execution_count": null,
   "metadata": {},
   "outputs": [],
   "source": [
    "N, M = map(int, input().split())\n",
    "#logic for printing upper half\n",
    "for i in range(1,N,2):\n",
    "    print((\".|.\"*i).center(M,(\"-\")))\n",
    "#for printing WELCOME\n",
    "print(\"WELCOME\".center(M,(\"-\")))\n",
    "#logic for printing lower half\n",
    "for i in range(N-2,-1,-2):\n",
    "    print((\".|.\"*i).center(M,(\"-\")))"
   ]
  }
 ],
 "metadata": {
  "kernelspec": {
   "display_name": "Python 3",
   "language": "python",
   "name": "python3"
  },
  "language_info": {
   "codemirror_mode": {
    "name": "ipython",
    "version": 3
   },
   "file_extension": ".py",
   "mimetype": "text/x-python",
   "name": "python",
   "nbconvert_exporter": "python",
   "pygments_lexer": "ipython3",
   "version": "3.7.6"
  }
 },
 "nbformat": 4,
 "nbformat_minor": 4
}
